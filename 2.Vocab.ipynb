{
 "cells": [
  {
   "cell_type": "markdown",
   "id": "black-location",
   "metadata": {},
   "source": [
    "## NLP2. 단어사전 만들기 "
   ]
  },
  {
   "cell_type": "code",
   "execution_count": 1,
   "id": "foster-rhythm",
   "metadata": {},
   "outputs": [
    {
     "name": "stdout",
     "output_type": "stream",
     "text": [
      "['자연어', '처리', '가', '너무', '재밌', '어서', '밥', '먹', '는', '것', '도', '가끔', '까먹', '어요']\n"
     ]
    }
   ],
   "source": [
    "from konlpy.tag import Mecab\n",
    "\n",
    "mecab = Mecab()\n",
    "print(mecab.morphs('자연어처리가너무재밌어서밥먹는것도가끔까먹어요'))"
   ]
  },
  {
   "cell_type": "markdown",
   "id": "theoretical-sequence",
   "metadata": {},
   "source": [
    "### 데이터 불러오기, 전처리 "
   ]
  },
  {
   "cell_type": "code",
   "execution_count": 89,
   "id": "generous-algorithm",
   "metadata": {},
   "outputs": [],
   "source": [
    "import os\n",
    "\n",
    "import matplotlib.pyplot as plt\n",
    "import tensorflow as tf\n",
    "import numpy as np\n",
    "\n",
    "%matplotlib inline"
   ]
  },
  {
   "cell_type": "code",
   "execution_count": 90,
   "id": "eastern-frame",
   "metadata": {},
   "outputs": [
    {
     "name": "stdout",
     "output_type": "stream",
     "text": [
      "Data Size: 94123\n",
      "Example:\n",
      ">> 개인용 컴퓨터 사용의 상당 부분은 \"이것보다 뛰어날 수 있느냐?\"\n",
      ">> 북한의 핵무기 계획을 포기하도록 하려는 압력이 거세지고 있는 가운데, 일본과 북한의 외교관들이 외교 관계를 정상화하려는 회담을 재개했다.\n",
      ">> \"경호 로보트가 침입자나 화재를 탐지하기 위해서 개인적으로, 그리고 전문적으로 사용되고 있습니다.\"\n",
      ">> 수자원부 당국은 논란이 되고 있고, 막대한 비용이 드는 이 사업에 대해 내년에 건설을 시작할 계획이다.\n",
      ">> 또한 근력 운동은 활발하게 걷는 것이나 최소한 20분 동안 뛰는 것과 같은 유산소 활동에서 얻는 운동 효과를 심장과 폐에 주지 않기 때문에, 연구학자들은 근력 운동이 심장에 큰 영향을 미치는지 여부에 대해 논쟁을 해왔다.\n"
     ]
    }
   ],
   "source": [
    "import os\n",
    "path_to_file = os.getenv('HOME')+'/aiffel/sp_tokenizer/data/korean-english-park.train.ko'\n",
    "\n",
    "with open(path_to_file, \"r\") as f:\n",
    "    raw = f.read().splitlines()\n",
    "\n",
    "print(\"Data Size:\", len(raw))\n",
    "\n",
    "print(\"Example:\")\n",
    "for sen in raw[0:100][::20]: print(\">>\", sen)"
   ]
  },
  {
   "cell_type": "code",
   "execution_count": 91,
   "id": "binding-president",
   "metadata": {},
   "outputs": [
    {
     "name": "stdout",
     "output_type": "stream",
     "text": [
      "문장의 최단 길이: 1\n",
      "문장의 최장 길이: 377\n",
      "문장의 평균 길이: 60\n"
     ]
    },
    {
     "data": {
      "image/png": "[encoded data removed]",
      "text/plain": [
       "<Figure size 432x288 with 1 Axes>"
      ]
     },
     "metadata": {
      "needs_background": "light"
     },
     "output_type": "display_data"
    }
   ],
   "source": [
    "min_len = 999\n",
    "max_len = 0\n",
    "sum_len = 0\n",
    "\n",
    "for sen in raw:\n",
    "    length = len(sen)\n",
    "    if min_len > length: min_len = length\n",
    "    if max_len < length: max_len = length\n",
    "    sum_len += length\n",
    "\n",
    "print(\"문장의 최단 길이:\", min_len)\n",
    "print(\"문장의 최장 길이:\", max_len)\n",
    "print(\"문장의 평균 길이:\", sum_len // len(raw))\n",
    "\n",
    "sentence_length = np.zeros((max_len), dtype=np.int)\n",
    "\n",
    "for sen in raw:\n",
    "    sentence_length[len(sen)-1] += 1\n",
    "\n",
    "plt.bar(range(max_len), sentence_length, width=1.0)\n",
    "plt.title(\"Sentence Length Distribution\")\n",
    "plt.show()"
   ]
  },
  {
   "cell_type": "markdown",
   "id": "considerable-correction",
   "metadata": {},
   "source": [
    "데이터에서 좀 더 살펴볼것은 2가지가 있다.  \n",
    "1. 문장의 최단길이가 1인 문장\n",
    "2. 위의 그래프에서 치솟은 부분"
   ]
  },
  {
   "cell_type": "code",
   "execution_count": 92,
   "id": "brutal-piece",
   "metadata": {},
   "outputs": [
    {
     "name": "stdout",
     "output_type": "stream",
     "text": [
      "’\n"
     ]
    }
   ],
   "source": [
    "def check_sentence_with_length(raw, length):\n",
    "    count = 0\n",
    "    \n",
    "    for sen in raw:\n",
    "        if len(sen) == length:\n",
    "            print(sen)\n",
    "            count += 1\n",
    "            if count > 100: return\n",
    "\n",
    "check_sentence_with_length(raw, 1)"
   ]
  },
  {
   "cell_type": "markdown",
   "id": "proper-spanish",
   "metadata": {},
   "source": [
    "길이가 1인 문장은 ',' 아무 의미 없기 때문에 전처리에서 제거해줄 필요가 있다. "
   ]
  },
  {
   "cell_type": "code",
   "execution_count": 93,
   "id": "determined-release",
   "metadata": {},
   "outputs": [
    {
     "name": "stdout",
     "output_type": "stream",
     "text": [
      "Outlier Index: 11\n",
      "Outlier Index: 19\n",
      "Outlier Index: 21\n"
     ]
    }
   ],
   "source": [
    "for idx, _sum in enumerate(sentence_length):\n",
    "    if _sum > 1500: \n",
    "        print(\"Outlier Index:\", idx+1)"
   ]
  },
  {
   "cell_type": "code",
   "execution_count": 94,
   "id": "dedicated-california",
   "metadata": {},
   "outputs": [
    {
     "name": "stdout",
     "output_type": "stream",
     "text": [
      "라고 조던이 말했다.\n",
      "- 모르고 있습니다.\n",
      "- 네, 보이는군요.\n",
      "디즈니사만이 아니다.\n",
      "큰 파티는 아니지요.\n",
      "의자는 비어 있었다.\n",
      "이 일은 계속됩니다.\n",
      "나는 크게 실망했다.\n",
      "그 이유는 간단하다.\n",
      "이력서와 자기 소개서\n",
      "시대가 변하고 있다.\n",
      "는 돌발질문을 했다.\n",
      "9. 몇 분간의 명상\n",
      "하와이, 빅 아일랜드\n",
      "키스를 잘 하는 방법\n",
      "키스를 잘 하는 방법\n",
      "스피어스가 뚱뚱한가?\n",
      "산 위를 나는 느낌.\n",
      "세 시간쯤 걸었을까?\n",
      "(아직 읽고있습니까?\n",
      "처음에는 장난이었다.\n",
      "우리는 운이 좋았다.\n",
      "아기가 숨을 멈출 때\n",
      "건물 전체 무너져내려\n",
      "그녀의 아름다운 눈.\n",
      "대답은 다음과 같다.\n",
      "\"사과할 것이 없다.\n",
      "폭탄테러가 공포 유발\n",
      "그는 \"잘 모르겠다.\n",
      "그는 \"잘 모르겠다.\n",
      "그는 \"잘 모르겠다.\n",
      "그는 \"잘 모르겠다.\n",
      "그는 \"잘 모르겠다.\n",
      "그는 \"잘 모르겠다.\n",
      "그는 \"잘 모르겠다.\n",
      "그는 \"잘 모르겠다.\n",
      "그는 \"잘 모르겠다.\n",
      "케냐 야생동물 고아원\n",
      "경유 1200원대로…\n",
      "더 내려야 하는 이유\n",
      "케냐 야생동물 고아원\n",
      "경유 1200원대로…\n",
      "더 내려야 하는 이유\n",
      "케냐 야생동물 고아원\n",
      "경유 1200원대로…\n",
      "더 내려야 하는 이유\n",
      "케냐 야생동물 고아원\n",
      "경유 1200원대로…\n",
      "더 내려야 하는 이유\n",
      "케냐 야생동물 고아원\n",
      "경유 1200원대로…\n",
      "더 내려야 하는 이유\n",
      "케냐 야생동물 고아원\n",
      "경유 1200원대로…\n",
      "더 내려야 하는 이유\n",
      "케냐 야생동물 고아원\n",
      "경유 1200원대로…\n",
      "더 내려야 하는 이유\n",
      "케냐 야생동물 고아원\n",
      "경유 1200원대로…\n",
      "더 내려야 하는 이유\n",
      "케냐 야생동물 고아원\n",
      "경유 1200원대로…\n",
      "더 내려야 하는 이유\n",
      "케냐 야생동물 고아원\n",
      "경유 1200원대로…\n",
      "더 내려야 하는 이유\n",
      "케냐 야생동물 고아원\n",
      "경유 1200원대로…\n",
      "더 내려야 하는 이유\n",
      "케냐 야생동물 고아원\n",
      "경유 1200원대로…\n",
      "더 내려야 하는 이유\n",
      "케냐 야생동물 고아원\n",
      "경유 1200원대로…\n",
      "더 내려야 하는 이유\n",
      "케냐 야생동물 고아원\n",
      "경유 1200원대로…\n",
      "더 내려야 하는 이유\n",
      "케냐 야생동물 고아원\n",
      "경유 1200원대로…\n",
      "더 내려야 하는 이유\n",
      "케냐 야생동물 고아원\n",
      "경유 1200원대로…\n",
      "더 내려야 하는 이유\n",
      "케냐 야생동물 고아원\n",
      "경유 1200원대로…\n",
      "더 내려야 하는 이유\n",
      "케냐 야생동물 고아원\n",
      "경유 1200원대로…\n",
      "더 내려야 하는 이유\n",
      "케냐 야생동물 고아원\n",
      "경유 1200원대로…\n",
      "더 내려야 하는 이유\n",
      "케냐 야생동물 고아원\n",
      "경유 1200원대로…\n",
      "더 내려야 하는 이유\n",
      "조금은 새침한 샬롯？\n",
      "조금은 새침한 샬롯？\n",
      "케냐 야생동물 고아원\n",
      "경유 1200원대로…\n"
     ]
    }
   ],
   "source": [
    "check_sentence_with_length(raw, 11)"
   ]
  },
  {
   "cell_type": "markdown",
   "id": "solar-joint",
   "metadata": {},
   "source": [
    "중복 문장들이 많이 보인다. 전처리에서 제거해줄 필요가 있다. "
   ]
  },
  {
   "cell_type": "code",
   "execution_count": 95,
   "id": "interim-malta",
   "metadata": {},
   "outputs": [
    {
     "name": "stdout",
     "output_type": "stream",
     "text": [
      "Data Size: 77591\n",
      "문장의 최단길이: 1\n",
      "문장의 최장길이: 377\n",
      "문장의 평균길이: 138\n"
     ]
    },
    {
     "data": {
      "image/png": "[encoded data removed]",
      "text/plain": [
       "<Figure size 432x288 with 1 Axes>"
      ]
     },
     "metadata": {
      "needs_background": "light"
     },
     "output_type": "display_data"
    }
   ],
   "source": [
    "cleaned_corpus = list(set(raw)) #set를 이용해서 중복을 제거 \n",
    "print(\"Data Size:\", len(cleaned_corpus))\n",
    "\n",
    "for sen in cleaned_corpus: \n",
    "    length = len(sen)\n",
    "    if min_len > length: min_len = length \n",
    "    if max_len < length: max_len = length \n",
    "    sum_len += length \n",
    "        \n",
    "print(\"문장의 최단길이:\", min_len)\n",
    "print(\"문장의 최장길이:\", max_len)\n",
    "print(\"문장의 평균길이:\", sum_len//len(cleaned_corpus))\n",
    "\n",
    "sentence_length = np.zeros((max_len), dtype=np.int)\n",
    "\n",
    "for sen in cleaned_corpus: \n",
    "    sentence_length[len(sen)-1] += 1\n",
    "\n",
    "plt.bar(range(max_len), sentence_length, width=1.0)\n",
    "plt.title(\"Sentence Length Distribution\")\n",
    "plt.show()"
   ]
  },
  {
   "cell_type": "markdown",
   "id": "challenging-discussion",
   "metadata": {},
   "source": [
    "미니 배치 특성상 각 데이터의 크기가 모두 동일해야 하기 때문에 가장 긴 데이터를 기준으로 Padding 처리를 해야한다. 여기서는 문장길이 10-150 사이의 문장만 선택해서 학습한다. "
   ]
  },
  {
   "cell_type": "code",
   "execution_count": 96,
   "id": "satellite-thought",
   "metadata": {},
   "outputs": [
    {
     "data": {
      "image/png": "[encoded data removed]",
      "text/plain": [
       "<Figure size 432x288 with 1 Axes>"
      ]
     },
     "metadata": {
      "needs_background": "light"
     },
     "output_type": "display_data"
    }
   ],
   "source": [
    "max_len = 150\n",
    "min_len = 10\n",
    "\n",
    "filtered_corpus = [s for s in cleaned_corpus if (len(s) < max_len) & (len(s) >= min_len)]\n",
    "\n",
    "# distribution \n",
    "sentence_length = np.zeros((max_len), dtype=np.int)\n",
    "\n",
    "for sen in filtered_corpus:\n",
    "    sentence_length[len(sen)-1] += 1\n",
    "\n",
    "plt.bar(range(max_len), sentence_length, width=1.0)\n",
    "plt.title(\"Sentence Length Distribution\")\n",
    "plt.show()"
   ]
  },
  {
   "cell_type": "markdown",
   "id": "affiliated-hughes",
   "metadata": {},
   "source": [
    "### 공백기반 토큰화 \n",
    "* tf.keras.preprocessing.text.Tokenizer: vectorize a text corpus by turning each text into a sequence of integers or into a vector. \n",
    "    * By default, all punctuation is removed, turning the texts into space-separated sequences of words (words maybe include the ' character). These sequences are then split into lists of tokens. They will then be indexed or vectorized.\n",
    "    * 0 is a reserved index that won't be assigned to any word.\n",
    "* fit_on_texts: updates internal vocab based on a list of texts. \n",
    "* texts_to_sequences: Transforms each text in texts to a sequence of integers (정수)."
   ]
  },
  {
   "cell_type": "code",
   "execution_count": 97,
   "id": "adjusted-adelaide",
   "metadata": {},
   "outputs": [],
   "source": [
    "def tokenize(corpus):\n",
    "    tokenizer=tf.keras.preprocessing.text.Tokenizer(filters='') # tokenizer 객체 생성\n",
    "    tokenizer.fit_on_texts(corpus) \n",
    "    \n",
    "    tensor = tokenizer.texts_to_sequences(corpus) # text를 숫자로 변환 \n",
    "    \n",
    "    tensor = tf.keras.preprocessing.sequence.pad_sequences(tensor, padding='post')  # padding\n",
    "    \n",
    "    return tensor, tokenizer "
   ]
  },
  {
   "cell_type": "code",
   "execution_count": 98,
   "id": "impressed-zoning",
   "metadata": {},
   "outputs": [],
   "source": [
    "split_corpus = []\n",
    "\n",
    "for kor in filtered_corpus: \n",
    "    split_corpus.append(kor.split())  "
   ]
  },
  {
   "cell_type": "code",
   "execution_count": 99,
   "id": "atomic-ethiopia",
   "metadata": {},
   "outputs": [
    {
     "name": "stdout",
     "output_type": "stream",
     "text": [
      "Split Vocab Size: 238086\n"
     ]
    }
   ],
   "source": [
    "tensor1, tokenizer1 = tokenize(filtered_corpus) # filtered corpus\n",
    "\n",
    "print(\"Split Vocab Size:\", len(tokenizer1.index_word))"
   ]
  },
  {
   "cell_type": "code",
   "execution_count": 100,
   "id": "entitled-bulgaria",
   "metadata": {},
   "outputs": [
    {
     "name": "stdout",
     "output_type": "stream",
     "text": [
      "Split Vocab Size: 237435\n"
     ]
    }
   ],
   "source": [
    "split_tensor, split_tokenizer = tokenize(split_corpus) # split corpus\n",
    "\n",
    "print(\"Split Vocab Size:\", len(split_tokenizer.index_word))"
   ]
  },
  {
   "cell_type": "code",
   "execution_count": 101,
   "id": "ongoing-development",
   "metadata": {},
   "outputs": [
    {
     "name": "stdout",
     "output_type": "stream",
     "text": [
      "0 : 이\n",
      "1 : 밝혔다.\n",
      "2 : 있다.\n",
      "3 : 말했다.\n",
      "4 : 수\n",
      "5 : 있는\n",
      "6 : 그는\n",
      "7 : 대한\n",
      "8 : 위해\n",
      "9 : 전했다.\n",
      "10 : 지난\n",
      "11 : 이번\n"
     ]
    }
   ],
   "source": [
    "for idx, word in enumerate(split_tokenizer.word_index):\n",
    "    print(idx, \":\", word)\n",
    "    \n",
    "    if idx > 10: break"
   ]
  },
  {
   "cell_type": "code",
   "execution_count": 102,
   "id": "endless-trial",
   "metadata": {},
   "outputs": [
    {
     "name": "stdout",
     "output_type": "stream",
     "text": [
      "0 : 이\n",
      "1 : 밝혔다.\n",
      "2 : 있다.\n",
      "3 : 말했다.\n",
      "4 : 수\n",
      "5 : 있는\n",
      "6 : 그는\n",
      "7 : 대한\n",
      "8 : 위해\n",
      "9 : 전했다.\n",
      "10 : 지난\n",
      "11 : 이번\n"
     ]
    }
   ],
   "source": [
    "for idx, word in enumerate(tokenizer1.word_index):\n",
    "    print(idx, \":\", word)\n",
    "    \n",
    "    if idx > 10: break"
   ]
  },
  {
   "cell_type": "markdown",
   "id": "charged-anchor",
   "metadata": {},
   "source": [
    "* 질문: 위에서 split_tokienizer 와 tokenizer1의 차이? \n",
    "* 공백 토큰화의 문제점: \"밝혔다\" 는 밝히다 , 밝다 등과 유사한 의미를 지니고 있음에도 전혀 다른 단어로 분류될 것이다.때문에 공백 기반 토큰화는 불필요하게 큰 단어 사전을 가지게 되며 이는 연산량 증가로 이어진다. 만일 밝 + 혔다 라고 토큰화했다면 어땠을까? 밝 + 히다, 밝 + 다 같은 구절이 등장했을 때, 공통된 어절인 밝 은 하나로 묶여 학습 중에 의미를 파악하기가 수월해 지고, 단어사전의 크기도 줄어들 수 있다. "
   ]
  },
  {
   "cell_type": "markdown",
   "id": "thorough-plumbing",
   "metadata": {},
   "source": [
    "### 형태소 기반 토큰화 \n",
    "한국어 형태소 분석기는 대표적으로 Khaiii와 KoNLPy가 있는데 여기서는 KoNLPy, 그중에서도 가장 성능이 준수한 MeCab클래스를 활용해 보도록 한다. "
   ]
  },
  {
   "cell_type": "code",
   "execution_count": 103,
   "id": "satisfactory-vietnam",
   "metadata": {},
   "outputs": [],
   "source": [
    "def mecab_split(sentence): \n",
    "    return mecab.morphs(sentence)\n",
    "    \n",
    "mecab_corpus = []\n",
    "\n",
    "for kor in filtered_corpus: \n",
    "    mecab_corpus.append(mecab_split(kor))"
   ]
  },
  {
   "cell_type": "code",
   "execution_count": 104,
   "id": "spatial-jordan",
   "metadata": {},
   "outputs": [
    {
     "name": "stdout",
     "output_type": "stream",
     "text": [
      "mecab vocab size: 52279\n"
     ]
    }
   ],
   "source": [
    "mecab_tensor, mecab_tokenizer = tokenize(mecab_corpus)\n",
    "\n",
    "print(\"mecab vocab size:\", len(mecab_tokenizer.index_word))"
   ]
  },
  {
   "cell_type": "markdown",
   "id": "choice-terrorism",
   "metadata": {},
   "source": [
    "vocab size가 공백기반보다 확연히 적은 것을 확인할 수 있다. 이는 곧 연산량의 감소와 빠른 학습으로 이어진다!      \n",
    "\n",
    "**mecab (52,279) vs 공백기반 (237,435)**"
   ]
  },
  {
   "cell_type": "markdown",
   "id": "metallic-prediction",
   "metadata": {},
   "source": [
    "### Google BERT wordpiece vs 엑소브레인 wordpiece \n",
    "구글에서 배포한 BERT 모델은 한국어 전용 코퍼스를 바탕으로 훈련된 것이 아니라 Multilingual 코퍼스를 바탕으로 훈련된 것이며, Word Piece 모델 안에 포함된 subword 안에도 한국어가 아닌 여러 언어의 것이 섞여 있어서 한국어 자연어처리 태스크에 특화된 모델이 아니다. (상세한 내용은 https://github.com/google-research/bert 참조)\n",
    "\n",
    "엑소브레인의 것은 한국어 코퍼스에 특화된 형태로 언어모델과 토크나이저가 훈련된 것이므로 성능에서 우월하다. 엑소브레인의 wordpiece 중에서도 형태소 분석기 토크나이저가 성능이 우수했다. 한국어 문법과 의미정보를 바탕으로 개발된 형태소분석기가 정확하게 동작한다면 현재까지 가장 성능이 좋다고 알려진 Subword 기반의 토크나이저보다 더 성능이 좋을 수 있음을 시사한다. "
   ]
  },
  {
   "cell_type": "markdown",
   "id": "danish-stamp",
   "metadata": {},
   "source": [
    "### 정교한 형태소분석기를 활용한 모델의 성능이 더 좋을 수 있음에도 불구하고 실무에서 SentencePiece 같은 Subword 기반 토크나이저가 더욱 각광받는 이유\n",
    "정교한 형태소분석기의 성능을 유지하기 위해서는 지속적인 데이터관리와 유지보수 작업이 필요하다. \n",
    "\n",
    "그에 비해 SentencePiece 모델은 코퍼스데이터로부터 쉽게 추출해서 생성 가능하며, Subword 기반이기 때문에 새롭게 생성되는 단어에 대한 OOV(Out-of-Vocabulary) 문제에 대해서도 잘 대처할 수 있는 장점이 있다. 그리고 언어에 중립적이기 때문에 여러 언어가 섞여 나오는 텍스트를 처리하는 데에도 능하다. \n",
    "\n",
    "무엇보다도, 특정 언어에 대한 부가지식이 없이도 엔지니어가 그 언어에 대한 작업을 손쉽게 진행할 수 있도록 해준다는 점과 그 언어에 특화된 토크나이저의 성능에 뒤지지 않거나 대체로 능가하는 성능을 보여주기 때문이다. "
   ]
  },
  {
   "cell_type": "markdown",
   "id": "naked-thesaurus",
   "metadata": {},
   "source": [
    "### decoding "
   ]
  },
  {
   "cell_type": "code",
   "execution_count": 105,
   "id": "younger-offer",
   "metadata": {},
   "outputs": [
    {
     "name": "stdout",
     "output_type": "stream",
     "text": [
      "국영 방송 은 이 산불 로 수십 명 이 병원 에 실려 갔으며 이 들 은 호흡기 질환 을 겪 고 있 다고 보도 했 다 .\n"
     ]
    }
   ],
   "source": [
    "texts = mecab_tokenizer.sequences_to_texts([mecab_tensor[100]])\n",
    "print(texts[0])"
   ]
  },
  {
   "cell_type": "code",
   "execution_count": 106,
   "id": "together-injection",
   "metadata": {},
   "outputs": [
    {
     "name": "stdout",
     "output_type": "stream",
     "text": [
      "국영 방송 은 이 산불 로 수십 명 이 병원 에 실려 갔으며 이 들 은 호흡기 질환 을 겪 고 있 다고 보도 했 다 . \n"
     ]
    }
   ],
   "source": [
    "sentence = \"\"\n",
    "\n",
    "for w in mecab_tensor[100]:\n",
    "    if w == 0: continue\n",
    "    sentence += mecab_tokenizer.index_word[w] + \" \"\n",
    "\n",
    "print(sentence)"
   ]
  },
  {
   "cell_type": "markdown",
   "id": "difficult-moses",
   "metadata": {},
   "source": [
    "### 프로젝트: SentencePiece 사용하기"
   ]
  },
  {
   "cell_type": "markdown",
   "id": "continuing-determination",
   "metadata": {},
   "source": [
    "### Step 1. SentencePiece 설치하기 \n",
    "SentencePiece is an **unsupervised text tokenizer and detokenizer*** mainly for Neural Network-based text generation systems where the vocabulary size is predetermined prior to the neural model training. SentencePiece **implements subword units (e.g., byte-pair-encoding (BPE) [Sennrich et al.]) and unigram language model [Kudo.]) with the extension of direct training from raw sentences.** SentencePiece allows us to make a purely end-to-end system that does not depend on language-specific pre/postprocessing. (https://github.com/google/sentencepiece)\n",
    "\n",
    "최근 pretrained model들이 거의 대부분 SentencePiece를 tokenizer로 채용하면서 사실상 표준의 역할을 하고 있다. SentencePiece는 python에서 쓰라고 만들어진 라이브러리는 아니지만 편리한 파이썬 wrapper를 아래와 같이 제공하고 있습니다. "
   ]
  },
  {
   "cell_type": "code",
   "execution_count": 107,
   "id": "forty-cuisine",
   "metadata": {},
   "outputs": [],
   "source": [
    "# 설치: pip install sentencepiece"
   ]
  },
  {
   "cell_type": "markdown",
   "id": "modified-clinton",
   "metadata": {},
   "source": [
    "### Step 2. SentencePiece 모델 학습 "
   ]
  },
  {
   "cell_type": "code",
   "execution_count": 21,
   "id": "floral-hierarchy",
   "metadata": {},
   "outputs": [],
   "source": [
    "import sentencepiece as spm\n",
    "import os\n",
    "temp_file = os.getenv('HOME')+'/aiffel/sp_tokenizer/data/korean-english-park.train.ko.temp'\n",
    "\n",
    "vocab_size = 8000\n",
    "\n",
    "with open(temp_file, 'w') as f:\n",
    "    for row in filtered_corpus:   # 이전 스텝에서 정제했던 corpus로 대체\n",
    "        f.write(str(row) + '\\n')\n",
    "\n",
    "spm.SentencePieceTrainer.Train(\n",
    "    '--input={} --model_prefix=korean_spm --vocab_size={}'.format(temp_file, vocab_size)    \n",
    ")\n",
    "#위 Train에서  --model_type = 'unigram'이 디폴트 적용되어 있습니다. \n",
    "#--model_type = 'bpe' 로 옵션을 주어 변경할 수 있습니다.\n",
    "# --model_prefix=korean_spm 저장하는 파일 이름 설정"
   ]
  },
  {
   "cell_type": "code",
   "execution_count": 22,
   "id": "progressive-habitat",
   "metadata": {},
   "outputs": [
    {
     "name": "stdout",
     "output_type": "stream",
     "text": [
      "[1244, 11, 306, 7, 3599, 11, 286, 38, 3]\n",
      "['▁아버지', '가', '방', '에', '들어', '가', '신', '다', '.']\n",
      "아버지가방에들어가신다.\n"
     ]
    }
   ],
   "source": [
    "s = spm.SentencePieceProcessor()\n",
    "s.Load('korean_spm.model')\n",
    "\n",
    "# SentencePiece를 활용한 sentence -> encoding\n",
    "tokensIDs = s.EncodeAsIds('아버지가방에들어가신다.')\n",
    "print(tokensIDs)\n",
    "\n",
    "# SentencePiece를 활용한 sentence -> encoded pieces\n",
    "print(s.SampleEncodeAsPieces('아버지가방에들어가신다.',1, 0.0))\n",
    "\n",
    "# SentencePiece를 활용한 encoding -> sentence 복원\n",
    "print(s.DecodeIds(tokensIDs))"
   ]
  },
  {
   "cell_type": "markdown",
   "id": "exotic-comfort",
   "metadata": {},
   "source": [
    "### Step 3. Tokenizer 함수 \n",
    "아래 조건을 만족하는 함수를 정의하자. \n",
    "1. 매개변수로 토큰화된 문장의 list를 전달하는 대신 온전한 문장의 list 전달. \n",
    "2. 생성된 vocab 파일을 읽어와 {\\<word> : \\<idx>} 형태를 갖는 word_index 사전과 {\\<idx> : \\<word>} 형태를 갖는 index_word 사전을 생성하고 함께 반환한다. \n",
    "3. 리턴값인 tensor는 앞의 함수와 동일하게 토큰화한후 encoding된 문장이다. padding을 입힌다. "
   ]
  },
  {
   "cell_type": "code",
   "execution_count": 23,
   "id": "critical-karma",
   "metadata": {},
   "outputs": [],
   "source": [
    "def sp_tokenize(s, corpus):\n",
    "    \n",
    "    tensor = []\n",
    "    \n",
    "    for sen in corpus:\n",
    "        tensor.append(s.EncodeAsIds(sen))\n",
    "        \n",
    "    with open(\"./korean_spm.vocab\", \"r\") as f:\n",
    "        vocab = f.readlines()\n",
    "        \n",
    "    word_index = {}\n",
    "    index_word = {}\n",
    "    \n",
    "    for idx, line in enumerate(vocab):\n",
    "        word = line.split(\"\\t\")[0]\n",
    "        \n",
    "        word_index.update({idx:word})\n",
    "        word_index.update({word:idx})\n",
    "        \n",
    "    tensor = tf.keras.preprocessing.sequence.pad_sequences(tensor, padding='post')\n",
    "    \n",
    "    return tensor, word_index, index_word "
   ]
  },
  {
   "cell_type": "code",
   "execution_count": 24,
   "id": "vital-friendly",
   "metadata": {},
   "outputs": [
    {
     "name": "stdout",
     "output_type": "stream",
     "text": [
      "[[1949 5662    5    4 7975 1983    3    0    0    0    0    0    0    0]\n",
      " [ 107 1638  101    4    0  419   11    4   14    0 1969    3    3    3]]\n"
     ]
    }
   ],
   "source": [
    "my_corpus = ['나는 밥을 먹었습니다.', '그러나 여전히 ㅠㅠ 배가 고픕니다...']\n",
    "tensor, word_index, index_word = sp_tokenize(s, my_corpus)\n",
    "print(tensor)"
   ]
  },
  {
   "cell_type": "markdown",
   "id": "controversial-collect",
   "metadata": {},
   "source": [
    "### Step 4. 네이버 영화리뷰 감정분석 문제에 SentencePiece 적용해보기 \n",
    "* 네이버 영화리뷰 감정 분석 코퍼스에 SentencePiece를 적용시킨 모델 학습하기\n",
    "* 학습된 모델로 sp_tokenize() 메소드 구현하기\n",
    "* 구현된 토크나이저를 적용하여 네이버 영화리뷰 감정 분석 모델을 재학습하기\n",
    "* KoNLPy 형태소 분석기를 사용한 모델과 성능 비교하기\n",
    "* (보너스) SentencePiece 모델의 model_type, vocab_size 등을 변경해 가면서 성능 개선 여부 확인하기"
   ]
  },
  {
   "cell_type": "markdown",
   "id": "sudden-doubt",
   "metadata": {},
   "source": [
    "#### 데이터 가져오기 및 전처리 \n",
    "1. 결측치, 중복제거해주기 \n",
    "2. 데이터 살펴보기 \n",
    "3. min, max 길이로 데이터 필터링 해주기 "
   ]
  },
  {
   "cell_type": "code",
   "execution_count": 151,
   "id": "virgin-pressure",
   "metadata": {},
   "outputs": [],
   "source": [
    "import urllib\n",
    "import pandas as pd"
   ]
  },
  {
   "cell_type": "code",
   "execution_count": 152,
   "id": "stuffed-estimate",
   "metadata": {},
   "outputs": [
    {
     "data": {
      "text/html": [
       "<div>\n",
       "<style scoped>\n",
       "    .dataframe tbody tr th:only-of-type {\n",
       "        vertical-align: middle;\n",
       "    }\n",
       "\n",
       "    .dataframe tbody tr th {\n",
       "        vertical-align: top;\n",
       "    }\n",
       "\n",
       "    .dataframe thead th {\n",
       "        text-align: right;\n",
       "    }\n",
       "</style>\n",
       "<table border=\"1\" class=\"dataframe\">\n",
       "  <thead>\n",
       "    <tr style=\"text-align: right;\">\n",
       "      <th></th>\n",
       "      <th>id</th>\n",
       "      <th>document</th>\n",
       "      <th>label</th>\n",
       "    </tr>\n",
       "  </thead>\n",
       "  <tbody>\n",
       "    <tr>\n",
       "      <th>0</th>\n",
       "      <td>9976970</td>\n",
       "      <td>아 더빙.. 진짜 짜증나네요 목소리</td>\n",
       "      <td>0</td>\n",
       "    </tr>\n",
       "    <tr>\n",
       "      <th>1</th>\n",
       "      <td>3819312</td>\n",
       "      <td>흠...포스터보고 초딩영화줄....오버연기조차 가볍지 않구나</td>\n",
       "      <td>1</td>\n",
       "    </tr>\n",
       "    <tr>\n",
       "      <th>2</th>\n",
       "      <td>10265843</td>\n",
       "      <td>너무재밓었다그래서보는것을추천한다</td>\n",
       "      <td>0</td>\n",
       "    </tr>\n",
       "    <tr>\n",
       "      <th>3</th>\n",
       "      <td>9045019</td>\n",
       "      <td>교도소 이야기구먼 ..솔직히 재미는 없다..평점 조정</td>\n",
       "      <td>0</td>\n",
       "    </tr>\n",
       "    <tr>\n",
       "      <th>4</th>\n",
       "      <td>6483659</td>\n",
       "      <td>사이몬페그의 익살스런 연기가 돋보였던 영화!스파이더맨에서 늙어보이기만 했던 커스틴 ...</td>\n",
       "      <td>1</td>\n",
       "    </tr>\n",
       "  </tbody>\n",
       "</table>\n",
       "</div>"
      ],
      "text/plain": [
       "         id                                           document  label\n",
       "0   9976970                                아 더빙.. 진짜 짜증나네요 목소리      0\n",
       "1   3819312                  흠...포스터보고 초딩영화줄....오버연기조차 가볍지 않구나      1\n",
       "2  10265843                                  너무재밓었다그래서보는것을추천한다      0\n",
       "3   9045019                      교도소 이야기구먼 ..솔직히 재미는 없다..평점 조정      0\n",
       "4   6483659  사이몬페그의 익살스런 연기가 돋보였던 영화!스파이더맨에서 늙어보이기만 했던 커스틴 ...      1"
      ]
     },
     "execution_count": 152,
     "metadata": {},
     "output_type": "execute_result"
    }
   ],
   "source": [
    "path = os.getenv(\"HOME\") + '/aiffel/sp_tokenizer/data/ratings_train.txt'\n",
    "\n",
    "data = pd.read_table(path)\n",
    "data.head()"
   ]
  },
  {
   "cell_type": "code",
   "execution_count": 153,
   "id": "forty-fisher",
   "metadata": {},
   "outputs": [
    {
     "data": {
      "text/plain": [
       "150000"
      ]
     },
     "execution_count": 153,
     "metadata": {},
     "output_type": "execute_result"
    }
   ],
   "source": [
    "len(data)"
   ]
  },
  {
   "cell_type": "code",
   "execution_count": 154,
   "id": "established-burton",
   "metadata": {},
   "outputs": [],
   "source": [
    "data.drop_duplicates(subset=['document'], inplace=True) #중복제거 \n",
    "data = data.dropna(how='any') #결측치 제거 "
   ]
  },
  {
   "cell_type": "code",
   "execution_count": 155,
   "id": "other-friend",
   "metadata": {},
   "outputs": [
    {
     "data": {
      "text/plain": [
       "146182"
      ]
     },
     "execution_count": 155,
     "metadata": {},
     "output_type": "execute_result"
    }
   ],
   "source": [
    "len(data)"
   ]
  },
  {
   "cell_type": "code",
   "execution_count": 156,
   "id": "surface-garlic",
   "metadata": {},
   "outputs": [
    {
     "name": "stdout",
     "output_type": "stream",
     "text": [
      "문장의 최단 길이: 1\n",
      "문장의 최장 길이: 146\n",
      "문장의 평균 길이: 55\n"
     ]
    },
    {
     "data": {
      "image/png": "[encoded data removed]",
      "text/plain": [
       "<Figure size 432x288 with 1 Axes>"
      ]
     },
     "metadata": {
      "needs_background": "light"
     },
     "output_type": "display_data"
    }
   ],
   "source": [
    "min_len = 999\n",
    "max_len = 0\n",
    "sum_len = 0\n",
    "\n",
    "for sen in data['document']: \n",
    "    length = len(sen)\n",
    "    if min_len > length: min_len = length\n",
    "    if max_len < length: max_len = length\n",
    "    sum_len += length \n",
    "    \n",
    "print(\"문장의 최단 길이:\", min_len)\n",
    "print(\"문장의 최장 길이:\", max_len)\n",
    "print(\"문장의 평균 길이:\", sum_len // len(raw))\n",
    "\n",
    "sentence_length = np.zeros((max_len), dtype=np.int) \n",
    "\n",
    "for sen in data['document']: \n",
    "    sentence_length[len(sen)-1] += 1\n",
    "\n",
    "plt.bar(range(max_len), sentence_length, width=1.0)\n",
    "plt.title(\"Naver sentence length distribution\")\n",
    "plt.show()"
   ]
  },
  {
   "cell_type": "markdown",
   "id": "found-satellite",
   "metadata": {},
   "source": [
    "outlier는 없어보이는데 문장이 엄청 긴 것들이 존재한다. 중복된 id는 없는것 같다. "
   ]
  },
  {
   "cell_type": "code",
   "execution_count": 157,
   "id": "classified-allowance",
   "metadata": {},
   "outputs": [
    {
     "data": {
      "text/plain": [
       "count    146182.0\n",
       "mean          1.0\n",
       "std           0.0\n",
       "min           1.0\n",
       "25%           1.0\n",
       "50%           1.0\n",
       "75%           1.0\n",
       "max           1.0\n",
       "Name: document, dtype: float64"
      ]
     },
     "execution_count": 157,
     "metadata": {},
     "output_type": "execute_result"
    }
   ],
   "source": [
    "long_data = data[data['document'].apply(lambda x: len(x) >= 130)]\n",
    "id_count = data.groupby('id')['document'].count()\n",
    "id_count.describe()"
   ]
  },
  {
   "cell_type": "markdown",
   "id": "similar-accuracy",
   "metadata": {},
   "source": [
    "minimum 이 1인 문장과 5이하인 문장을 살펴보자. "
   ]
  },
  {
   "cell_type": "code",
   "execution_count": 158,
   "id": "capital-title",
   "metadata": {},
   "outputs": [
    {
     "data": {
      "text/html": [
       "<div>\n",
       "<style scoped>\n",
       "    .dataframe tbody tr th:only-of-type {\n",
       "        vertical-align: middle;\n",
       "    }\n",
       "\n",
       "    .dataframe tbody tr th {\n",
       "        vertical-align: top;\n",
       "    }\n",
       "\n",
       "    .dataframe thead th {\n",
       "        text-align: right;\n",
       "    }\n",
       "</style>\n",
       "<table border=\"1\" class=\"dataframe\">\n",
       "  <thead>\n",
       "    <tr style=\"text-align: right;\">\n",
       "      <th></th>\n",
       "      <th>id</th>\n",
       "      <th>document</th>\n",
       "      <th>label</th>\n",
       "    </tr>\n",
       "  </thead>\n",
       "  <tbody>\n",
       "    <tr>\n",
       "      <th>151</th>\n",
       "      <td>7348295</td>\n",
       "      <td>아</td>\n",
       "      <td>0</td>\n",
       "    </tr>\n",
       "    <tr>\n",
       "      <th>384</th>\n",
       "      <td>7679615</td>\n",
       "      <td>잼</td>\n",
       "      <td>1</td>\n",
       "    </tr>\n",
       "    <tr>\n",
       "      <th>584</th>\n",
       "      <td>7117896</td>\n",
       "      <td>1</td>\n",
       "      <td>0</td>\n",
       "    </tr>\n",
       "    <tr>\n",
       "      <th>593</th>\n",
       "      <td>6478189</td>\n",
       "      <td>4</td>\n",
       "      <td>0</td>\n",
       "    </tr>\n",
       "    <tr>\n",
       "      <th>1723</th>\n",
       "      <td>3412704</td>\n",
       "      <td>굿</td>\n",
       "      <td>1</td>\n",
       "    </tr>\n",
       "    <tr>\n",
       "      <th>...</th>\n",
       "      <td>...</td>\n",
       "      <td>...</td>\n",
       "      <td>...</td>\n",
       "    </tr>\n",
       "    <tr>\n",
       "      <th>143087</th>\n",
       "      <td>3609303</td>\n",
       "      <td>꺅</td>\n",
       "      <td>0</td>\n",
       "    </tr>\n",
       "    <tr>\n",
       "      <th>143913</th>\n",
       "      <td>7319057</td>\n",
       "      <td>욜</td>\n",
       "      <td>0</td>\n",
       "    </tr>\n",
       "    <tr>\n",
       "      <th>146537</th>\n",
       "      <td>7256630</td>\n",
       "      <td>ㅄ</td>\n",
       "      <td>0</td>\n",
       "    </tr>\n",
       "    <tr>\n",
       "      <th>146607</th>\n",
       "      <td>4602734</td>\n",
       "      <td>2</td>\n",
       "      <td>0</td>\n",
       "    </tr>\n",
       "    <tr>\n",
       "      <th>147788</th>\n",
       "      <td>5458245</td>\n",
       "      <td>핡</td>\n",
       "      <td>1</td>\n",
       "    </tr>\n",
       "  </tbody>\n",
       "</table>\n",
       "<p>101 rows × 3 columns</p>\n",
       "</div>"
      ],
      "text/plain": [
       "             id document  label\n",
       "151     7348295        아      0\n",
       "384     7679615        잼      1\n",
       "584     7117896        1      0\n",
       "593     6478189        4      0\n",
       "1723    3412704        굿      1\n",
       "...         ...      ...    ...\n",
       "143087  3609303        꺅      0\n",
       "143913  7319057        욜      0\n",
       "146537  7256630        ㅄ      0\n",
       "146607  4602734        2      0\n",
       "147788  5458245        핡      1\n",
       "\n",
       "[101 rows x 3 columns]"
      ]
     },
     "execution_count": 158,
     "metadata": {},
     "output_type": "execute_result"
    }
   ],
   "source": [
    "min_data = data[data['document'].apply(lambda x: len(x)==1)]\n",
    "min_data"
   ]
  },
  {
   "cell_type": "code",
   "execution_count": 159,
   "id": "likely-abortion",
   "metadata": {},
   "outputs": [
    {
     "data": {
      "text/html": [
       "<div>\n",
       "<style scoped>\n",
       "    .dataframe tbody tr th:only-of-type {\n",
       "        vertical-align: middle;\n",
       "    }\n",
       "\n",
       "    .dataframe tbody tr th {\n",
       "        vertical-align: top;\n",
       "    }\n",
       "\n",
       "    .dataframe thead th {\n",
       "        text-align: right;\n",
       "    }\n",
       "</style>\n",
       "<table border=\"1\" class=\"dataframe\">\n",
       "  <thead>\n",
       "    <tr style=\"text-align: right;\">\n",
       "      <th></th>\n",
       "      <th>id</th>\n",
       "      <th>document</th>\n",
       "      <th>label</th>\n",
       "    </tr>\n",
       "  </thead>\n",
       "  <tbody>\n",
       "    <tr>\n",
       "      <th>28</th>\n",
       "      <td>6091784</td>\n",
       "      <td>재밋는뎅</td>\n",
       "      <td>1</td>\n",
       "    </tr>\n",
       "    <tr>\n",
       "      <th>54</th>\n",
       "      <td>7207064</td>\n",
       "      <td>재미있어요</td>\n",
       "      <td>1</td>\n",
       "    </tr>\n",
       "    <tr>\n",
       "      <th>55</th>\n",
       "      <td>5719655</td>\n",
       "      <td>전 좋아요</td>\n",
       "      <td>1</td>\n",
       "    </tr>\n",
       "    <tr>\n",
       "      <th>56</th>\n",
       "      <td>1651126</td>\n",
       "      <td>최고</td>\n",
       "      <td>0</td>\n",
       "    </tr>\n",
       "    <tr>\n",
       "      <th>72</th>\n",
       "      <td>5679106</td>\n",
       "      <td>졸작</td>\n",
       "      <td>0</td>\n",
       "    </tr>\n",
       "    <tr>\n",
       "      <th>...</th>\n",
       "      <td>...</td>\n",
       "      <td>...</td>\n",
       "      <td>...</td>\n",
       "    </tr>\n",
       "    <tr>\n",
       "      <th>149688</th>\n",
       "      <td>2740980</td>\n",
       "      <td>현대사회</td>\n",
       "      <td>1</td>\n",
       "    </tr>\n",
       "    <tr>\n",
       "      <th>149716</th>\n",
       "      <td>81753</td>\n",
       "      <td>쓰레기~</td>\n",
       "      <td>0</td>\n",
       "    </tr>\n",
       "    <tr>\n",
       "      <th>149717</th>\n",
       "      <td>5536736</td>\n",
       "      <td>적당 ㅎㅎ</td>\n",
       "      <td>1</td>\n",
       "    </tr>\n",
       "    <tr>\n",
       "      <th>149894</th>\n",
       "      <td>6472460</td>\n",
       "      <td>연기 끝장</td>\n",
       "      <td>1</td>\n",
       "    </tr>\n",
       "    <tr>\n",
       "      <th>149961</th>\n",
       "      <td>7154176</td>\n",
       "      <td>짠하다~</td>\n",
       "      <td>1</td>\n",
       "    </tr>\n",
       "  </tbody>\n",
       "</table>\n",
       "<p>3236 rows × 3 columns</p>\n",
       "</div>"
      ],
      "text/plain": [
       "             id document  label\n",
       "28      6091784     재밋는뎅      1\n",
       "54      7207064    재미있어요      1\n",
       "55      5719655    전 좋아요      1\n",
       "56      1651126       최고      0\n",
       "72      5679106       졸작      0\n",
       "...         ...      ...    ...\n",
       "149688  2740980     현대사회      1\n",
       "149716    81753     쓰레기~      0\n",
       "149717  5536736    적당 ㅎㅎ      1\n",
       "149894  6472460    연기 끝장      1\n",
       "149961  7154176     짠하다~      1\n",
       "\n",
       "[3236 rows x 3 columns]"
      ]
     },
     "execution_count": 159,
     "metadata": {},
     "output_type": "execute_result"
    }
   ],
   "source": [
    "short_data = data[data['document'].apply(lambda x: len(x) <= 5)]\n",
    "short_data"
   ]
  },
  {
   "cell_type": "markdown",
   "id": "dressed-blast",
   "metadata": {},
   "source": [
    "리뷰의 길이가 1인 것은 의미없는 데이터 같다. 하지만 2글자 이상 짧은 리뷰도 호불호의 의미를 잘 전달하는 것같다. 그러므로 minimum(2)과 maximum(100) 길이를 지정해서 data를 필터링해준다. "
   ]
  },
  {
   "cell_type": "code",
   "execution_count": 160,
   "id": "moving-legislature",
   "metadata": {},
   "outputs": [
    {
     "data": {
      "text/plain": [
       "137397"
      ]
     },
     "execution_count": 160,
     "metadata": {},
     "output_type": "execute_result"
    }
   ],
   "source": [
    "min_len_corpus = 2\n",
    "max_len_corpus = 100 \n",
    "\n",
    "data = data[data['document'].apply(lambda x: min_len_corpus <= len(x) <= max_len_corpus)]\n",
    "len(data)"
   ]
  },
  {
   "cell_type": "markdown",
   "id": "obvious-broadcast",
   "metadata": {},
   "source": [
    "8,785개의 데이터가 리뷰의 길이로 제거되었다. 이로인해 총 150,000개의 raw data중에서 137,397개의 데이터를 가지고 훈련을 시킬 것이다. "
   ]
  },
  {
   "cell_type": "markdown",
   "id": "graphic-breakdown",
   "metadata": {},
   "source": [
    "#### SentencePiece 을 네이버 영화리뷰에 학습 \n",
    "SentencePieceTrainer.Train: \n",
    "--input: one-sentence-per-line raw corpus file. No need to run tokenizer, normalizer or preprocessor. By default, SentencePiece normalizes the input with Unicode NFKC. You can pass a comma-separated list of files.    \n",
    "--model_prefix: output model name prefix. <model_name>.model and <model_name>.vocab are generated.     \n",
    "--vocab_size: vocabulary size, e.g., 8000, 16000, or 32000     \n",
    "--character_coverage: amount of characters covered by the model, good defaults are: 0.9995 for languages with rich character set like Japanese or Chinese and 1.0 for other languages with small character set.     \n",
    "--model_type: model type. Choose from unigram (default), bpe, char, or word. The input sentence must be pretokenized when using word type."
   ]
  },
  {
   "cell_type": "markdown",
   "id": "daily-arena",
   "metadata": {},
   "source": [
    "input file 만들어주기 "
   ]
  },
  {
   "cell_type": "code",
   "execution_count": 39,
   "id": "asian-niagara",
   "metadata": {},
   "outputs": [],
   "source": [
    "naver_path = os.getenv(\"HOME\") + '/aiffel/sp_tokenizer/data/naver_corpus.txt'\n",
    "\n",
    "with open(naver_path, 'w') as f:\n",
    "    for row in data['document']:   # 이전 스텝에서 정제했던 corpus로 대체\n",
    "        f.write(str(row) + '\\n')"
   ]
  },
  {
   "cell_type": "markdown",
   "id": "talented-swift",
   "metadata": {},
   "source": [
    "spm.SentencePieceTrainer          \n",
    "4개의 모델과 단어장이 생성됐다. \n",
    "1. model= unigram/ vocab size=20k \n",
    "2. model= bpe/ vocab size=20k\n",
    "3. model= unigram/ vocab size=10k\n",
    "4. model= bpe/ vocab size=20k  "
   ]
  },
  {
   "cell_type": "code",
   "execution_count": 49,
   "id": "favorite-potential",
   "metadata": {},
   "outputs": [],
   "source": [
    "import sentencepiece as spm\n",
    "\n",
    "naver_vocab_size = 20000\n",
    "naver_vocab_10k = 10000\n",
    "\n",
    "spm.SentencePieceTrainer.Train(\n",
    "    '--input={} --model_prefix=navermovie_uni_20k --vocab_size={}'.format(naver_path, naver_vocab_size)    \n",
    ")\n",
    "spm.SentencePieceTrainer.Train(\n",
    "    '--input={} --model_prefix=navermovie_bpe_20k --model_type=bpe --vocab_size={}'.format(naver_path, naver_vocab_size)    \n",
    ")\n",
    "spm.SentencePieceTrainer.Train(\n",
    "    '--input={} --model_prefix=navermovie_uni_10k --vocab_size={}'.format(naver_path, naver_vocab_10k)    \n",
    ")\n",
    "spm.SentencePieceTrainer.Train(\n",
    "    '--input={} --model_prefix=navermovie_bpe_10k --model_type=bpe --vocab_size={}'.format(naver_path, naver_vocab_10k)    \n",
    ")"
   ]
  },
  {
   "cell_type": "code",
   "execution_count": 50,
   "id": "regulation-updating",
   "metadata": {},
   "outputs": [
    {
     "data": {
      "text/plain": [
       "True"
      ]
     },
     "execution_count": 50,
     "metadata": {},
     "output_type": "execute_result"
    }
   ],
   "source": [
    "n1 = spm.SentencePieceProcessor()\n",
    "n1.Load('navermovie_uni_20k.model')\n",
    "n2 = spm.SentencePieceProcessor()\n",
    "n2.Load('navermovie_bpe_20k.model')\n",
    "n3 = spm.SentencePieceProcessor()\n",
    "n3.Load('navermovie_uni_10k.model')\n",
    "n4 = spm.SentencePieceProcessor()\n",
    "n4.Load('navermovie_bpe_10k.model')"
   ]
  },
  {
   "cell_type": "code",
   "execution_count": 51,
   "id": "dietary-wayne",
   "metadata": {},
   "outputs": [
    {
     "name": "stdout",
     "output_type": "stream",
     "text": [
      "       0        1\n",
      "0  <unk>  0.00000\n",
      "1    <s>  0.00000\n",
      "2   </s>  0.00000\n",
      "3      . -3.32465\n",
      "4      ▁ -3.48812\n",
      "       0  1\n",
      "0  <unk>  0\n",
      "1    <s>  0\n",
      "2   </s>  0\n",
      "3     ..  0\n",
      "4     영화 -1\n",
      "       0        1\n",
      "0  <unk>  0.00000\n",
      "1    <s>  0.00000\n",
      "2   </s>  0.00000\n",
      "3      ▁ -3.25429\n",
      "4      . -3.43798\n",
      "       0  1\n",
      "0  <unk>  0\n",
      "1    <s>  0\n",
      "2   </s>  0\n",
      "3     ..  0\n",
      "4     영화 -1\n"
     ]
    }
   ],
   "source": [
    "import csv\n",
    "uni_20k_vocab = pd.read_csv('navermovie_uni_20k.vocab', sep='\\t', header=None, quoting=csv.QUOTE_NONE)\n",
    "print(uni_20k_vocab[:5])\n",
    "bpe_20k_vocab = pd.read_csv('navermovie_bpe_20k.vocab', sep='\\t', header=None, quoting=csv.QUOTE_NONE)\n",
    "print(bpe_20k_vocab[:5])\n",
    "uni_10k_vocab = pd.read_csv('navermovie_uni_10k.vocab', sep='\\t', header=None, quoting=csv.QUOTE_NONE)\n",
    "print(uni_10k_vocab[:5])\n",
    "bpe_10k_vocab = pd.read_csv('navermovie_bpe_10k.vocab', sep='\\t', header=None, quoting=csv.QUOTE_NONE)\n",
    "print(bpe_10k_vocab[:5])"
   ]
  },
  {
   "cell_type": "code",
   "execution_count": 59,
   "id": "smooth-stamp",
   "metadata": {},
   "outputs": [
    {
     "name": "stdout",
     "output_type": "stream",
     "text": [
      "20000\n",
      "20000\n",
      "10000\n",
      "10000\n"
     ]
    }
   ],
   "source": [
    "print(len(uni_20k_vocab))\n",
    "print(len(bpe_20k_vocab))\n",
    "print(len(uni_10k_vocab))\n",
    "print(len(bpe_10k_vocab))"
   ]
  },
  {
   "cell_type": "markdown",
   "id": "cross-favorite",
   "metadata": {},
   "source": [
    "vocab 사전에 \\<s> beginning of sentence \\</s> end of sentence 둘다 포함되어 있고 \\<unk>도 포함되어 있다. "
   ]
  },
  {
   "cell_type": "code",
   "execution_count": 161,
   "id": "focal-suicide",
   "metadata": {},
   "outputs": [],
   "source": [
    "def sp_tokenize_naver(n, corpus, model):\n",
    "    \n",
    "    tensor = []\n",
    "    \n",
    "    for sentence in corpus:\n",
    "        tensor.append(n.EncodeAsIds(sentence))\n",
    "        \n",
    "    with open(\"./{}.vocab\".format(model), 'r') as f:\n",
    "        vocab = f.readlines()\n",
    "        \n",
    "    word_index = {}\n",
    "    index_word = {}\n",
    "    \n",
    "    for idx, line in enumerate(vocab):\n",
    "        word = line.split(\"\\t\")[0]\n",
    "        \n",
    "        word_index.update({idx:word})\n",
    "        word_index.update({word:idx})\n",
    "        \n",
    "    tensor = tf.keras.preprocessing.sequence.pad_sequences(tensor, padding='post')\n",
    "    \n",
    "    return tensor, word_index, index_word "
   ]
  },
  {
   "cell_type": "code",
   "execution_count": 162,
   "id": "unavailable-holocaust",
   "metadata": {},
   "outputs": [],
   "source": [
    "tensor_uni20, word_index_uni20, index_word_uni20 = sp_tokenize_naver(n1, data['document'], 'navermovie_uni_20k')\n",
    "tensor_bpe20, word_index_bpe20, index_word_bpe20 = sp_tokenize_naver(n2, data['document'], 'navermovie_bpe_20k')\n",
    "tensor_uni10, word_index_uni10, index_word_uni10 = sp_tokenize_naver(n3, data['document'], 'navermovie_uni_10k')\n",
    "tensor_bpe10, word_index_bpe10, index_word_bpe10 = sp_tokenize_naver(n4, data['document'], 'navermovie_uni_10k')"
   ]
  },
  {
   "cell_type": "markdown",
   "id": "known-machine",
   "metadata": {},
   "source": [
    "### Train, validation, test set 분리 \n",
    "data 중에서 20% test 데이터로 설정하고 80%의 20%는 validation set으로 나눠주었다. "
   ]
  },
  {
   "cell_type": "code",
   "execution_count": 163,
   "id": "individual-findings",
   "metadata": {},
   "outputs": [
    {
     "name": "stdout",
     "output_type": "stream",
     "text": [
      "137397 137397\n"
     ]
    }
   ],
   "source": [
    "y_train = np.array(data['label'])\n",
    "print(len(tensor_uni20), len(y_train))"
   ]
  },
  {
   "cell_type": "code",
   "execution_count": 164,
   "id": "greater-tissue",
   "metadata": {},
   "outputs": [
    {
     "name": "stdout",
     "output_type": "stream",
     "text": [
      "137397 137397\n"
     ]
    }
   ],
   "source": [
    "print(len(tensor_bpe20), len(y_train))"
   ]
  },
  {
   "cell_type": "code",
   "execution_count": 165,
   "id": "after-internet",
   "metadata": {},
   "outputs": [],
   "source": [
    "from sklearn.model_selection import train_test_split\n",
    "\n",
    "x_train_uni20, x_test_uni20, y_train_uni20, y_test_uni20 = train_test_split(tensor_uni20, y_train, test_size=0.2)\n",
    "x_train_uni20, x_val_uni20, y_train_uni20, y_val_uni20 = train_test_split(x_train_uni20, y_train_uni20, test_size=0.2)\n",
    "\n",
    "x_train_bpe20, x_test_bpe20, y_train_bpe20, y_test_bpe20 = train_test_split(tensor_bpe20, y_train, test_size=0.2)\n",
    "x_train_bpe20, x_val_bpe20, y_train_bpe20, y_val_bpe20 = train_test_split(x_train_bpe20, y_train_bpe20, test_size=0.2)\n"
   ]
  },
  {
   "cell_type": "code",
   "execution_count": 166,
   "id": "fifteen-trail",
   "metadata": {},
   "outputs": [
    {
     "name": "stdout",
     "output_type": "stream",
     "text": [
      "train: 87933 test: 27480 val: 21984\n",
      "train: 87933 test: 27480 val: 21984\n"
     ]
    }
   ],
   "source": [
    "print('train:', len(x_train_uni20), 'test:', len(x_test_uni20), 'val:', len(x_val_uni20))\n",
    "print('train:', len(x_train_bpe20), 'test:', len(x_test_bpe20), 'val:', len(x_val_bpe20))    "
   ]
  },
  {
   "cell_type": "code",
   "execution_count": 167,
   "id": "controlled-active",
   "metadata": {},
   "outputs": [
    {
     "name": "stdout",
     "output_type": "stream",
     "text": [
      "train: 87933 test: 27480 val: 21984\n",
      "train: 87933 test: 27480 val: 21984\n"
     ]
    }
   ],
   "source": [
    "x_train_uni10, x_test_uni10, y_train_uni10, y_test_uni10 = train_test_split(tensor_uni10, y_train, test_size=0.2)\n",
    "x_train_uni10, x_val_uni10, y_train_uni10, y_val_uni10 = train_test_split(x_train_uni10, y_train_uni10, test_size=0.2)\n",
    "\n",
    "x_train_bpe10, x_test_bpe10, y_train_bpe10, y_test_bpe10 = train_test_split(tensor_bpe10, y_train, test_size=0.2)\n",
    "x_train_bpe10, x_val_bpe10, y_train_bpe10, y_val_bpe10 = train_test_split(x_train_bpe10, y_train_bpe10, test_size=0.2)\n",
    "\n",
    "print('train:', len(x_train_uni10), 'test:', len(x_test_uni10), 'val:', len(x_val_uni10))\n",
    "print('train:', len(x_train_bpe10), 'test:', len(x_test_bpe10), 'val:', len(x_val_bpe10))    "
   ]
  },
  {
   "cell_type": "markdown",
   "id": "loose-breast",
   "metadata": {},
   "source": [
    "### Model 설계\n",
    "네이버 감성 분석했을때 LSTM이 성능이 가장 좋았으므로 여기선 LSTM 모델을 써 보았다.        \n",
    "* model1, model1_1: vocab size 20k    \n",
    "* model2, model2_1: vocab size 10k"
   ]
  },
  {
   "cell_type": "code",
   "execution_count": 168,
   "id": "earned-parameter",
   "metadata": {},
   "outputs": [
    {
     "name": "stdout",
     "output_type": "stream",
     "text": [
      "Model: \"sequential_15\"\n",
      "_________________________________________________________________\n",
      "Layer (type)                 Output Shape              Param #   \n",
      "=================================================================\n",
      "embedding_15 (Embedding)     (None, None, 32)          640000    \n",
      "_________________________________________________________________\n",
      "lstm_15 (LSTM)               (None, 64)                24832     \n",
      "_________________________________________________________________\n",
      "dense_29 (Dense)             (None, 10)                650       \n",
      "_________________________________________________________________\n",
      "dense_30 (Dense)             (None, 1)                 11        \n",
      "=================================================================\n",
      "Total params: 665,493\n",
      "Trainable params: 665,493\n",
      "Non-trainable params: 0\n",
      "_________________________________________________________________\n"
     ]
    }
   ],
   "source": [
    "from tensorflow import keras\n",
    "\n",
    "vocab_size_20k = 20000    \n",
    "word_vector_dim = 32  \n",
    "\n",
    "model1 = keras.Sequential()\n",
    "\n",
    "model1.add(keras.layers.Embedding(vocab_size_20k, word_vector_dim, input_shape=(None,)))\n",
    "model1.add(keras.layers.LSTM(64))          \n",
    "model1.add(keras.layers.Dense(10, activation='relu'))\n",
    "model1.add(keras.layers.Dense(1, activation='sigmoid'))\n",
    "         \n",
    "model1.summary()"
   ]
  },
  {
   "cell_type": "code",
   "execution_count": 169,
   "id": "ideal-shape",
   "metadata": {},
   "outputs": [],
   "source": [
    "model1_1 = keras.Sequential()\n",
    "\n",
    "model1_1.add(keras.layers.Embedding(vocab_size_20k, word_vector_dim, input_shape=(None,)))\n",
    "model1_1.add(keras.layers.LSTM(64))          \n",
    "model1_1.add(keras.layers.Dense(10, activation='relu'))\n",
    "model1_1.add(keras.layers.Dense(1, activation='sigmoid'))"
   ]
  },
  {
   "cell_type": "code",
   "execution_count": 170,
   "id": "advised-arrow",
   "metadata": {},
   "outputs": [
    {
     "name": "stdout",
     "output_type": "stream",
     "text": [
      "Model: \"sequential_17\"\n",
      "_________________________________________________________________\n",
      "Layer (type)                 Output Shape              Param #   \n",
      "=================================================================\n",
      "embedding_17 (Embedding)     (None, None, 32)          320000    \n",
      "_________________________________________________________________\n",
      "lstm_17 (LSTM)               (None, 64)                24832     \n",
      "_________________________________________________________________\n",
      "dense_33 (Dense)             (None, 10)                650       \n",
      "_________________________________________________________________\n",
      "dense_34 (Dense)             (None, 1)                 11        \n",
      "=================================================================\n",
      "Total params: 345,493\n",
      "Trainable params: 345,493\n",
      "Non-trainable params: 0\n",
      "_________________________________________________________________\n"
     ]
    }
   ],
   "source": [
    "vocab_size_10k = 10000    \n",
    "word_vector_dim = 32  \n",
    "\n",
    "model2 = keras.Sequential()\n",
    "\n",
    "model2.add(keras.layers.Embedding(vocab_size_10k, word_vector_dim, input_shape=(None,)))\n",
    "model2.add(keras.layers.LSTM(64))          \n",
    "model2.add(keras.layers.Dense(10, activation='relu'))\n",
    "model2.add(keras.layers.Dense(1, activation='sigmoid'))\n",
    "         \n",
    "model2.summary()"
   ]
  },
  {
   "cell_type": "code",
   "execution_count": 171,
   "id": "nasty-studio",
   "metadata": {},
   "outputs": [],
   "source": [
    "model2_1 = keras.Sequential()\n",
    "\n",
    "model2_1.add(keras.layers.Embedding(vocab_size_10k, word_vector_dim, input_shape=(None,)))\n",
    "model2_1.add(keras.layers.LSTM(64))          \n",
    "model2_1.add(keras.layers.Dense(10, activation='relu'))\n",
    "model2_1.add(keras.layers.Dense(1, activation='sigmoid'))"
   ]
  },
  {
   "cell_type": "markdown",
   "id": "adjacent-times",
   "metadata": {},
   "source": [
    "### 모델 훈련 및 시각화 "
   ]
  },
  {
   "cell_type": "markdown",
   "id": "authentic-insured",
   "metadata": {},
   "source": [
    "loss, accuracy가 크게 차이가 없고, validation loss, accuracy 의 감소, 증가 추세가 일정하지가 않다. 아무래도 모델을 더 연구해서 변화를 줘야 할 것 같다. "
   ]
  },
  {
   "cell_type": "code",
   "execution_count": 172,
   "id": "fewer-commissioner",
   "metadata": {},
   "outputs": [],
   "source": [
    "es = keras.callbacks.EarlyStopping(monitor='val_loss', mode='min', verbose=1, patience=4)"
   ]
  },
  {
   "cell_type": "code",
   "execution_count": 173,
   "id": "loose-pacific",
   "metadata": {},
   "outputs": [
    {
     "name": "stdout",
     "output_type": "stream",
     "text": [
      "Epoch 1/20\n",
      "687/687 - 15s - loss: 0.6932 - accuracy: 0.4989 - val_loss: 0.6932 - val_accuracy: 0.4981\n",
      "Epoch 2/20\n",
      "687/687 - 13s - loss: 0.6932 - accuracy: 0.5016 - val_loss: 0.6932 - val_accuracy: 0.4981\n",
      "Epoch 3/20\n",
      "687/687 - 13s - loss: 0.6931 - accuracy: 0.5016 - val_loss: 0.6932 - val_accuracy: 0.4981\n",
      "Epoch 4/20\n",
      "687/687 - 13s - loss: 0.6932 - accuracy: 0.5016 - val_loss: 0.6932 - val_accuracy: 0.4981\n",
      "Epoch 5/20\n",
      "687/687 - 13s - loss: 0.6932 - accuracy: 0.4997 - val_loss: 0.6932 - val_accuracy: 0.4981\n",
      "Epoch 6/20\n",
      "687/687 - 13s - loss: 0.6932 - accuracy: 0.5022 - val_loss: 0.6932 - val_accuracy: 0.4981\n",
      "Epoch 7/20\n",
      "687/687 - 13s - loss: 0.6931 - accuracy: 0.5003 - val_loss: 0.6932 - val_accuracy: 0.4981\n",
      "Epoch 00007: early stopping\n"
     ]
    }
   ],
   "source": [
    "model1.compile(optimizer='Adam', loss='binary_crossentropy', metrics=['accuracy'])\n",
    "\n",
    "epochs = 20\n",
    "batch_size = 128\n",
    "\n",
    "history_uni20k = model1.fit(x_train_uni20,\n",
    "                    y_train_uni20,\n",
    "                    epochs=epochs,\n",
    "                    batch_size=batch_size,\n",
    "                    validation_data=(x_val_uni20, y_val_uni20),\n",
    "                    callbacks=es,\n",
    "                    verbose=2) "
   ]
  },
  {
   "cell_type": "code",
   "execution_count": 174,
   "id": "southeast-incident",
   "metadata": {},
   "outputs": [
    {
     "name": "stdout",
     "output_type": "stream",
     "text": [
      "Epoch 1/20\n",
      "687/687 - 16s - loss: 0.6932 - accuracy: 0.5017 - val_loss: 0.6931 - val_accuracy: 0.5020\n",
      "Epoch 2/20\n",
      "687/687 - 13s - loss: 0.6932 - accuracy: 0.5006 - val_loss: 0.6931 - val_accuracy: 0.5020\n",
      "Epoch 3/20\n",
      "687/687 - 13s - loss: 0.6931 - accuracy: 0.5009 - val_loss: 0.6931 - val_accuracy: 0.5020\n",
      "Epoch 4/20\n",
      "687/687 - 13s - loss: 0.6932 - accuracy: 0.5016 - val_loss: 0.6931 - val_accuracy: 0.5020\n",
      "Epoch 5/20\n",
      "687/687 - 13s - loss: 0.6931 - accuracy: 0.5016 - val_loss: 0.6931 - val_accuracy: 0.5020\n",
      "Epoch 6/20\n",
      "687/687 - 13s - loss: 0.6931 - accuracy: 0.5021 - val_loss: 0.6931 - val_accuracy: 0.5020\n",
      "Epoch 00006: early stopping\n"
     ]
    }
   ],
   "source": [
    "model1_1.compile(optimizer='Adam', loss='binary_crossentropy', metrics=['accuracy'])\n",
    "\n",
    "history_bpe20k = model1_1.fit(x_train_bpe20,\n",
    "                    y_train_bpe20,\n",
    "                    epochs=epochs,\n",
    "                    batch_size=batch_size,\n",
    "                    validation_data=(x_val_bpe20, y_val_bpe20),\n",
    "                    callbacks=es, \n",
    "                    verbose=2) "
   ]
  },
  {
   "cell_type": "code",
   "execution_count": 175,
   "id": "compressed-moses",
   "metadata": {},
   "outputs": [],
   "source": [
    "def visualize_train(train_history, param):\n",
    "    # summarize history for accuracy\n",
    "    plt.plot(train_history.history['accuracy'])\n",
    "    plt.plot(train_history.history['val_accuracy'])\n",
    "    plt.title('{}_accuracy'.format(param))\n",
    "    plt.ylabel('accuracy')\n",
    "    plt.xlabel('epoch')\n",
    "    plt.legend(['train', 'val'], loc='upper left')\n",
    "    plt.show()\n",
    "    # summarize history for loss\n",
    "    plt.plot(train_history.history['loss'])\n",
    "    plt.plot(train_history.history['val_loss'])\n",
    "    plt.title('{}_loss'.format(param))\n",
    "    plt.ylabel('loss')\n",
    "    plt.xlabel('epoch')\n",
    "    plt.legend(['train', 'val'], loc='upper left')\n",
    "    plt.show()"
   ]
  },
  {
   "cell_type": "code",
   "execution_count": 176,
   "id": "complex-fleet",
   "metadata": {},
   "outputs": [
    {
     "data": {
      "image/png": "[encoded data removed]",
      "text/plain": [
       "<Figure size 432x288 with 1 Axes>"
      ]
     },
     "metadata": {
      "needs_background": "light"
     },
     "output_type": "display_data"
    },
    {
     "data": {
      "image/png": "[encoded data removed]",
      "text/plain": [
       "<Figure size 432x288 with 1 Axes>"
      ]
     },
     "metadata": {
      "needs_background": "light"
     },
     "output_type": "display_data"
    }
   ],
   "source": [
    "visualize_train(history_uni20k, 'uni_20k')"
   ]
  },
  {
   "cell_type": "code",
   "execution_count": 177,
   "id": "municipal-biography",
   "metadata": {},
   "outputs": [
    {
     "data": {
      "image/png": "[encoded data removed]",
      "text/plain": [
       "<Figure size 432x288 with 1 Axes>"
      ]
     },
     "metadata": {
      "needs_background": "light"
     },
     "output_type": "display_data"
    },
    {
     "data": {
      "image/png": "[encoded data removed]",
      "text/plain": [
       "<Figure size 432x288 with 1 Axes>"
      ]
     },
     "metadata": {
      "needs_background": "light"
     },
     "output_type": "display_data"
    }
   ],
   "source": [
    "visualize_train(history_bpe20k, 'bpe_20k')"
   ]
  },
  {
   "cell_type": "code",
   "execution_count": 178,
   "id": "suburban-gather",
   "metadata": {},
   "outputs": [
    {
     "name": "stdout",
     "output_type": "stream",
     "text": [
      "Epoch 1/20\n",
      "687/687 - 14s - loss: 0.6932 - accuracy: 0.5023 - val_loss: 0.6932 - val_accuracy: 0.4955\n",
      "Epoch 2/20\n",
      "687/687 - 12s - loss: 0.6932 - accuracy: 0.4999 - val_loss: 0.6931 - val_accuracy: 0.4955\n",
      "Epoch 3/20\n",
      "687/687 - 12s - loss: 0.6932 - accuracy: 0.4998 - val_loss: 0.6931 - val_accuracy: 0.5045\n",
      "Epoch 4/20\n",
      "687/687 - 12s - loss: 0.6932 - accuracy: 0.4988 - val_loss: 0.6931 - val_accuracy: 0.5045\n",
      "Epoch 5/20\n",
      "687/687 - 12s - loss: 0.6932 - accuracy: 0.5004 - val_loss: 0.6931 - val_accuracy: 0.5045\n",
      "Epoch 6/20\n",
      "687/687 - 12s - loss: 0.6932 - accuracy: 0.5005 - val_loss: 0.6931 - val_accuracy: 0.5045\n",
      "Epoch 7/20\n",
      "687/687 - 12s - loss: 0.6932 - accuracy: 0.5003 - val_loss: 0.6931 - val_accuracy: 0.4955\n",
      "Epoch 8/20\n",
      "687/687 - 12s - loss: 0.6931 - accuracy: 0.5027 - val_loss: 0.6931 - val_accuracy: 0.5045\n",
      "Epoch 9/20\n",
      "687/687 - 12s - loss: 0.6932 - accuracy: 0.4992 - val_loss: 0.6931 - val_accuracy: 0.5045\n",
      "Epoch 00009: early stopping\n"
     ]
    }
   ],
   "source": [
    "model2.compile(optimizer='Adam', loss='binary_crossentropy', metrics=['accuracy'])\n",
    "\n",
    "history_uni10k = model2.fit(x_train_uni10,\n",
    "                    y_train_uni10,\n",
    "                    epochs=epochs,\n",
    "                    batch_size=batch_size,\n",
    "                    validation_data=(x_val_uni10, y_val_uni10),\n",
    "                    callbacks=es,\n",
    "                    verbose=2) "
   ]
  },
  {
   "cell_type": "code",
   "execution_count": 179,
   "id": "moderate-protocol",
   "metadata": {},
   "outputs": [
    {
     "name": "stdout",
     "output_type": "stream",
     "text": [
      "Epoch 1/20\n",
      "687/687 [==============================] - 15s 20ms/step - loss: 0.6932 - accuracy: 0.4966 - val_loss: 0.6931 - val_accuracy: 0.5066\n",
      "Epoch 2/20\n",
      "687/687 [==============================] - 13s 20ms/step - loss: 0.6932 - accuracy: 0.4957 - val_loss: 0.6931 - val_accuracy: 0.5066\n",
      "Epoch 3/20\n",
      "687/687 [==============================] - 13s 20ms/step - loss: 0.6932 - accuracy: 0.4985 - val_loss: 0.6931 - val_accuracy: 0.5066\n",
      "Epoch 4/20\n",
      "687/687 [==============================] - 13s 20ms/step - loss: 0.6932 - accuracy: 0.5011 - val_loss: 0.6931 - val_accuracy: 0.5066\n",
      "Epoch 5/20\n",
      "687/687 [==============================] - 13s 19ms/step - loss: 0.6932 - accuracy: 0.4965 - val_loss: 0.6932 - val_accuracy: 0.4934\n",
      "Epoch 6/20\n",
      "687/687 [==============================] - 13s 19ms/step - loss: 0.6932 - accuracy: 0.5003 - val_loss: 0.6931 - val_accuracy: 0.5066\n",
      "Epoch 00006: early stopping\n"
     ]
    }
   ],
   "source": [
    "model2_1.compile(optimizer='Adam', loss='binary_crossentropy', metrics=['accuracy'])\n",
    "\n",
    "history_bpe10k = model2_1.fit(x_train_bpe10,\n",
    "                    y_train_bpe10,\n",
    "                    epochs=epochs,\n",
    "                    batch_size=batch_size,\n",
    "                    validation_data=(x_val_bpe10, y_val_bpe10),\n",
    "                    callbacks=es,\n",
    "                    verbose=1) "
   ]
  },
  {
   "cell_type": "code",
   "execution_count": 180,
   "id": "constitutional-bunch",
   "metadata": {},
   "outputs": [
    {
     "data": {
      "image/png": "[encoded data removed]",
      "text/plain": [
       "<Figure size 432x288 with 1 Axes>"
      ]
     },
     "metadata": {
      "needs_background": "light"
     },
     "output_type": "display_data"
    },
    {
     "data": {
      "image/png": "[encoded data removed]",
      "text/plain": [
       "<Figure size 432x288 with 1 Axes>"
      ]
     },
     "metadata": {
      "needs_background": "light"
     },
     "output_type": "display_data"
    }
   ],
   "source": [
    "visualize_train(history_uni10k, 'uni_10k')"
   ]
  },
  {
   "cell_type": "code",
   "execution_count": 181,
   "id": "prepared-lafayette",
   "metadata": {},
   "outputs": [
    {
     "data": {
      "image/png": "[encoded data removed]",
      "text/plain": [
       "<Figure size 432x288 with 1 Axes>"
      ]
     },
     "metadata": {
      "needs_background": "light"
     },
     "output_type": "display_data"
    },
    {
     "data": {
      "image/png": "[encoded data removed]",
      "text/plain": [
       "<Figure size 432x288 with 1 Axes>"
      ]
     },
     "metadata": {
      "needs_background": "light"
     },
     "output_type": "display_data"
    }
   ],
   "source": [
    "visualize_train(history_bpe10k, 'bpe_10k')"
   ]
  },
  {
   "cell_type": "markdown",
   "id": "foreign-sally",
   "metadata": {},
   "source": [
    "### 테스트\n",
    "테스트 결과는 loss, accuracy 모두 4가지 모델 큰 차이가 없다. "
   ]
  },
  {
   "cell_type": "code",
   "execution_count": 183,
   "id": "fewer-lincoln",
   "metadata": {},
   "outputs": [
    {
     "name": "stdout",
     "output_type": "stream",
     "text": [
      "859/859 - 5s - loss: 0.6931 - accuracy: 0.5016\n"
     ]
    }
   ],
   "source": [
    "uni20k_results = model1.evaluate(x_test_uni20,  y_test_uni20, verbose=2)"
   ]
  },
  {
   "cell_type": "code",
   "execution_count": 184,
   "id": "generous-printing",
   "metadata": {},
   "outputs": [
    {
     "name": "stdout",
     "output_type": "stream",
     "text": [
      "859/859 - 5s - loss: 0.6932 - accuracy: 0.4982\n"
     ]
    }
   ],
   "source": [
    "bpe20k_results = model1_1.evaluate(x_test_bpe20, y_test_bpe20, verbose=2)"
   ]
  },
  {
   "cell_type": "code",
   "execution_count": 187,
   "id": "purple-monte",
   "metadata": {},
   "outputs": [
    {
     "name": "stdout",
     "output_type": "stream",
     "text": [
      "859/859 - 5s - loss: 0.6932 - accuracy: 0.4979\n"
     ]
    }
   ],
   "source": [
    "uni10k_results = model2.evaluate(x_test_uni10,  y_test_uni10, verbose=2)"
   ]
  },
  {
   "cell_type": "code",
   "execution_count": 188,
   "id": "compact-bowling",
   "metadata": {},
   "outputs": [
    {
     "name": "stdout",
     "output_type": "stream",
     "text": [
      "859/859 - 5s - loss: 0.6931 - accuracy: 0.5002\n"
     ]
    }
   ],
   "source": [
    "bpe10k_results = model2_1.evaluate(x_test_bpe10, y_test_bpe10, verbose=2)"
   ]
  },
  {
   "cell_type": "markdown",
   "id": "sealed-passage",
   "metadata": {},
   "source": []
  },
  {
   "cell_type": "code",
   "execution_count": null,
   "id": "accessory-dubai",
   "metadata": {},
   "outputs": [],
   "source": []
  }
 ],
 "metadata": {
  "kernelspec": {
   "display_name": "Python 3",
   "language": "python",
   "name": "python3"
  },
  "language_info": {
   "codemirror_mode": {
    "name": "ipython",
    "version": 3
   },
   "file_extension": ".py",
   "mimetype": "text/x-python",
   "name": "python",
   "nbconvert_exporter": "python",
   "pygments_lexer": "ipython3",
   "version": "3.7.9"
  }
 },
 "nbformat": 4,
 "nbformat_minor": 5
}
